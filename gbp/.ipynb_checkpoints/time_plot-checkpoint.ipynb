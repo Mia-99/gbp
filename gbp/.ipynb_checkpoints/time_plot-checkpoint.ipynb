{
 "cells": [
  {
   "cell_type": "code",
   "execution_count": 2,
   "metadata": {},
   "outputs": [],
   "source": [
    "import numpy as np\n",
    "import matplotlib.pylab as plt\n"
   ]
  },
  {
   "cell_type": "code",
   "execution_count": 4,
   "metadata": {},
   "outputs": [],
   "source": [
    "nvarn = np.array([12, 20, 40, 60 , 80, 100])\n",
    "\n",
    "cpum = np.array([0.0121676536, 0.0213664148, 4.25445e-02, 0.0656084442, 0.0896249099, 0.1091620395])\n",
    "cpustd = np.array([0.0005088083, 0.0010475334, 0.0017128751, 0.0032842344, 0.003567063, 0.0044606776])\n",
    "\n",
    "ipum = np.array([1.212E-05, 1.526E-05, 1.450E-05, 1.415E-05, 1.536E-05, 1.418E-05])\n",
    "ipustd = np.array([7.18778651602845E-08, 3.8804862238299E-08, 4.84635269501142E-08, 1.82313261844673E-07, 4.887407970148E-08, 2.82193314355015E-08])\n",
    "\n"
   ]
  }
 ],
 "metadata": {
  "kernelspec": {
   "display_name": "Python 3",
   "language": "python",
   "name": "python3"
  },
  "language_info": {
   "codemirror_mode": {
    "name": "ipython",
    "version": 3
   },
   "file_extension": ".py",
   "mimetype": "text/x-python",
   "name": "python",
   "nbconvert_exporter": "python",
   "pygments_lexer": "ipython3",
   "version": "3.6.8"
  }
 },
 "nbformat": 4,
 "nbformat_minor": 2
}
